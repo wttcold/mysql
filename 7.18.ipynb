{
 "cells": [
  {
   "cell_type": "markdown",
   "metadata": {},
   "source": [
    "# 选择\n",
    "## 布尔类型、数值和表达式\n",
    "![](../Photo/33.png)\n",
    "- 注意：比较运算符的相等是两个等号，一个等到代表赋值\n",
    "- 在Python中可以用整型0来代表False，其他数字来代表True\n",
    "- 后面还会讲到 is 在判断语句中的用发"
   ]
  },
  {
   "cell_type": "code",
   "execution_count": 1,
   "metadata": {},
   "outputs": [
    {
     "data": {
      "text/plain": [
       "True"
      ]
     },
     "execution_count": 1,
     "metadata": {},
     "output_type": "execute_result"
    }
   ],
   "source": [
    "1>=1.0"
   ]
  },
  {
   "cell_type": "code",
   "execution_count": 2,
   "metadata": {},
   "outputs": [
    {
     "data": {
      "text/plain": [
       "True"
      ]
     },
     "execution_count": 2,
     "metadata": {},
     "output_type": "execute_result"
    }
   ],
   "source": [
    "1<=2<=3"
   ]
  },
  {
   "cell_type": "code",
   "execution_count": 3,
   "metadata": {},
   "outputs": [
    {
     "data": {
      "text/plain": [
       "False"
      ]
     },
     "execution_count": 3,
     "metadata": {},
     "output_type": "execute_result"
    }
   ],
   "source": [
    "bool(0)"
   ]
  },
  {
   "cell_type": "code",
   "execution_count": 5,
   "metadata": {},
   "outputs": [
    {
     "data": {
      "text/plain": [
       "True"
      ]
     },
     "execution_count": 5,
     "metadata": {},
     "output_type": "execute_result"
    }
   ],
   "source": [
    "bool('kim')"
   ]
  },
  {
   "cell_type": "code",
   "execution_count": 8,
   "metadata": {},
   "outputs": [
    {
     "ename": "SyntaxError",
     "evalue": "unexpected EOF while parsing (<ipython-input-8-769e12ce34a9>, line 1)",
     "output_type": "error",
     "traceback": [
      "\u001b[1;36m  File \u001b[1;32m\"<ipython-input-8-769e12ce34a9>\"\u001b[1;36m, line \u001b[1;32m1\u001b[0m\n\u001b[1;33m    while 1:\u001b[0m\n\u001b[1;37m            ^\u001b[0m\n\u001b[1;31mSyntaxError\u001b[0m\u001b[1;31m:\u001b[0m unexpected EOF while parsing\n"
     ]
    }
   ],
   "source": [
    "while 1:"
   ]
  },
  {
   "cell_type": "code",
   "execution_count": 10,
   "metadata": {},
   "outputs": [
    {
     "data": {
      "text/plain": [
       "False"
      ]
     },
     "execution_count": 10,
     "metadata": {},
     "output_type": "execute_result"
    }
   ],
   "source": [
    "a == b"
   ]
  },
  {
   "cell_type": "code",
   "execution_count": 11,
   "metadata": {},
   "outputs": [],
   "source": [
    "a = True\n",
    "b = False"
   ]
  },
  {
   "cell_type": "code",
   "execution_count": 12,
   "metadata": {},
   "outputs": [
    {
     "name": "stdout",
     "output_type": "stream",
     "text": [
      "140714349794112 140714349794144\n"
     ]
    },
    {
     "data": {
      "text/plain": [
       "False"
      ]
     },
     "execution_count": 12,
     "metadata": {},
     "output_type": "execute_result"
    }
   ],
   "source": [
    "a = id(1)\n",
    "b = id(2)\n",
    "#因为a和b不是同一个对象\n",
    "print(a,b)\n",
    "a is b\n"
   ]
  },
  {
   "cell_type": "markdown",
   "metadata": {},
   "source": [
    "## 字符串的比较使用ASCII值"
   ]
  },
  {
   "cell_type": "code",
   "execution_count": 16,
   "metadata": {},
   "outputs": [
    {
     "data": {
      "text/plain": [
       "True"
      ]
     },
     "execution_count": 16,
     "metadata": {},
     "output_type": "execute_result"
    }
   ],
   "source": [
    "a = 'kim'\n",
    "b = 'kfm'\n",
    "a>b"
   ]
  },
  {
   "cell_type": "markdown",
   "metadata": {},
   "source": [
    "## Markdown \n",
    "- https://github.com/younghz/Markdown"
   ]
  },
  {
   "cell_type": "markdown",
   "metadata": {},
   "source": [
    "ndkvn"
   ]
  },
  {
   "cell_type": "markdown",
   "metadata": {},
   "source": [
    "$y = \\alpha * k$"
   ]
  },
  {
   "cell_type": "code",
   "execution_count": null,
   "metadata": {},
   "outputs": [],
   "source": []
  },
  {
   "cell_type": "markdown",
   "metadata": {},
   "source": [
    "## EP:\n",
    "- <img src=\"../Photo/34.png\"></img>\n",
    "- 输入一个数字，判断其实奇数还是偶数"
   ]
  },
  {
   "cell_type": "code",
   "execution_count": 18,
   "metadata": {},
   "outputs": [],
   "source": [
    "i = int(True)"
   ]
  },
  {
   "cell_type": "code",
   "execution_count": 19,
   "metadata": {},
   "outputs": [],
   "source": [
    "b1 = bool(4)"
   ]
  },
  {
   "cell_type": "markdown",
   "metadata": {},
   "source": [
    "## 产生随机数字\n",
    "- 函数random.randint(a,b) 可以用来产生一个a和b之间且包括a和b的随机整数"
   ]
  },
  {
   "cell_type": "code",
   "execution_count": 20,
   "metadata": {},
   "outputs": [],
   "source": [
    "import random"
   ]
  },
  {
   "cell_type": "code",
   "execution_count": 21,
   "metadata": {},
   "outputs": [
    {
     "data": {
      "text/plain": [
       "1"
      ]
     },
     "execution_count": 21,
     "metadata": {},
     "output_type": "execute_result"
    }
   ],
   "source": [
    "random.randint(0,1)"
   ]
  },
  {
   "cell_type": "markdown",
   "metadata": {},
   "source": [
    "产生一个随机数，你去输入，如果你输入的数大于随机数，那么就告诉你太大了，反之，太小了，\n",
    "然后你一直输入，知道它满意为止"
   ]
  },
  {
   "cell_type": "code",
   "execution_count": null,
   "metadata": {},
   "outputs": [],
   "source": [
    "#逢冒号必须缩进"
   ]
  },
  {
   "cell_type": "code",
   "execution_count": null,
   "metadata": {},
   "outputs": [],
   "source": [
    "if condition:\n",
    "    do something\n",
    "else:\n",
    "    other"
   ]
  },
  {
   "cell_type": "code",
   "execution_count": null,
   "metadata": {},
   "outputs": [],
   "source": [
    "for iter_ in xxx:\n",
    "    do something\n",
    "    "
   ]
  },
  {
   "cell_type": "code",
   "execution_count": 36,
   "metadata": {},
   "outputs": [
    {
     "ename": "IndentationError",
     "evalue": "unexpected indent (<ipython-input-36-903cf08dba46>, line 3)",
     "output_type": "error",
     "traceback": [
      "\u001b[1;36m  File \u001b[1;32m\"<ipython-input-36-903cf08dba46>\"\u001b[1;36m, line \u001b[1;32m3\u001b[0m\n\u001b[1;33m    for i in a:\u001b[0m\n\u001b[1;37m    ^\u001b[0m\n\u001b[1;31mIndentationError\u001b[0m\u001b[1;31m:\u001b[0m unexpected indent\n"
     ]
    }
   ],
   "source": [
    "a = input(random.randint(0,10))\n",
    "b = input('3')\n",
    "    for i in a:\n",
    "        if a > b :\n",
    "        print(\"太大了\")\n",
    "else :\n",
    "        print(\"太小了\")"
   ]
  },
  {
   "cell_type": "code",
   "execution_count": 43,
   "metadata": {},
   "outputs": [
    {
     "ename": "IndentationError",
     "evalue": "unindent does not match any outer indentation level (<tokenize>, line 9)",
     "output_type": "error",
     "traceback": [
      "\u001b[1;36m  File \u001b[1;32m\"<tokenize>\"\u001b[1;36m, line \u001b[1;32m9\u001b[0m\n\u001b[1;33m    break\u001b[0m\n\u001b[1;37m    ^\u001b[0m\n\u001b[1;31mIndentationError\u001b[0m\u001b[1;31m:\u001b[0m unindent does not match any outer indentation level\n"
     ]
    }
   ],
   "source": [
    "for i in range(5):\n",
    "    input_ = eval(input(\"输入一个数字：\"))\n",
    "    if b>a:\n",
    "        print(\"太大了\")\n",
    "    if a<b:\n",
    "        print(\"太小了\")\n",
    "    if a==b:\n",
    "         print(\"正好\")  \n",
    "        break\n",
    "    "
   ]
  },
  {
   "cell_type": "markdown",
   "metadata": {},
   "source": [
    "##  其他random方法\n",
    "- random.random 返回0.0到1.0之间前闭后开区间的随机浮点\n",
    "- random.randrange(a,b) 前闭后开"
   ]
  },
  {
   "cell_type": "code",
   "execution_count": 44,
   "metadata": {},
   "outputs": [
    {
     "data": {
      "text/plain": [
       "0.17897728530034862"
      ]
     },
     "execution_count": 44,
     "metadata": {},
     "output_type": "execute_result"
    }
   ],
   "source": [
    "random.random()"
   ]
  },
  {
   "cell_type": "code",
   "execution_count": 45,
   "metadata": {},
   "outputs": [],
   "source": [
    "import matplotlib.pyplot as plt"
   ]
  },
  {
   "cell_type": "code",
   "execution_count": null,
   "metadata": {},
   "outputs": [],
   "source": []
  },
  {
   "cell_type": "markdown",
   "metadata": {},
   "source": [
    "## EP：\n",
    "- 产生两个随机整数number1和number2，然后显示给用户，使用户输入数字的和，并判定其是否正确\n",
    "- 进阶:写一个随机序号点名程序"
   ]
  },
  {
   "cell_type": "code",
   "execution_count": null,
   "metadata": {},
   "outputs": [
    {
     "name": "stdout",
     "output_type": "stream",
     "text": [
      ">>5\n",
      "错误\n",
      ">>56\n",
      "错误\n",
      ">>4\n",
      "错误\n",
      ">>64\n",
      "错误\n",
      ">>2\n",
      "错误\n",
      ">>3\n",
      "正确\n",
      ">>5\n",
      "错误\n",
      ">>6\n",
      "错误\n",
      ">>4\n",
      "错误\n",
      ">>5\n",
      "错误\n",
      ">>48\n",
      "错误\n",
      ">>75\n",
      "错误\n"
     ]
    }
   ],
   "source": [
    "number1 = random.randrange(0,5)\n",
    "number2 = random.randrange(0,5)\n",
    "while 1:\n",
    "    number3 = eval(input(\">>\"))\n",
    "    if number3 == number2 + number1:\n",
    "        print(\"正确\")\n",
    "    if number3 != number1 + number2:\n",
    "        print(\"错误\")"
   ]
  },
  {
   "cell_type": "markdown",
   "metadata": {},
   "source": [
    "## if语句\n",
    "- 如果条件正确就执行一个单向if语句，亦即当条件为真的时候才执行if内部的语句\n",
    "- Python有很多选择语句:\n",
    "> - 单向if \n",
    "  - 双向if-else\n",
    "  - 嵌套if\n",
    "  - 多向if-elif-else\n",
    "  \n",
    "- 注意：当语句含有子语句的时候，那么一定至少要有一个缩进，也就是说如果有儿子存在，那么一定要缩进\n",
    "- 切记不可tab键和space混用，单用tab 或者 space\n",
    "- 当你输出的结果是无论if是否为真时都需要显示时，语句应该与if对齐"
   ]
  },
  {
   "cell_type": "code",
   "execution_count": 2,
   "metadata": {},
   "outputs": [
    {
     "ename": "IndentationError",
     "evalue": "unexpected indent (<ipython-input-2-6b5d70a4f258>, line 2)",
     "output_type": "error",
     "traceback": [
      "\u001b[1;36m  File \u001b[1;32m\"<ipython-input-2-6b5d70a4f258>\"\u001b[1;36m, line \u001b[1;32m2\u001b[0m\n\u001b[1;33m    if b>a:\u001b[0m\n\u001b[1;37m    ^\u001b[0m\n\u001b[1;31mIndentationError\u001b[0m\u001b[1;31m:\u001b[0m unexpected indent\n"
     ]
    }
   ],
   "source": [
    "input_ = eval(input(\"输入一个数字：\"))\n",
    " if b>a:\n",
    "        print(\"太大了\")\n",
    "if a<b:\n",
    "     print(\"太小了\")\n",
    "if a==b:\n",
    "        print(\"不要灰心\")  \n",
    "\n",
    "    "
   ]
  },
  {
   "cell_type": "code",
   "execution_count": 23,
   "metadata": {},
   "outputs": [
    {
     "name": "stdout",
     "output_type": "stream",
     "text": [
      ">>33\n",
      ">>B\n",
      "老\n"
     ]
    }
   ],
   "source": [
    "import random\n",
    "random.randint(20,40)\n",
    "age = eval(input(\">>\"))\n",
    "hunyin = input('>>')\n",
    "if 20<age<30:\n",
    "    print(\"年轻\")\n",
    "else:\n",
    "    print(\"老\")\n",
    "    A = str(\"有老婆\")\n",
    "    B = str(\"没有老婆\")\n",
    "    if hunyin == A:\n",
    "        print(\"回家的诱惑\")\n",
    "    if hunyin == B:\n",
    "        print(\"马上结婚\")"
   ]
  },
  {
   "cell_type": "code",
   "execution_count": 25,
   "metadata": {},
   "outputs": [
    {
     "ename": "SyntaxError",
     "evalue": "invalid syntax (<ipython-input-25-e77a8453c0c2>, line 8)",
     "output_type": "error",
     "traceback": [
      "\u001b[1;36m  File \u001b[1;32m\"<ipython-input-25-e77a8453c0c2>\"\u001b[1;36m, line \u001b[1;32m8\u001b[0m\n\u001b[1;33m    else:\u001b[0m\n\u001b[1;37m       ^\u001b[0m\n\u001b[1;31mSyntaxError\u001b[0m\u001b[1;31m:\u001b[0m invalid syntax\n"
     ]
    }
   ],
   "source": [
    "age = input('年轻[y/n]')\n",
    "if age =='y':\n",
    "    handsome = input('帅否[y/n]')\n",
    "    if handsome == 'y':\n",
    "        wife = input('有没有老婆[y/n]')\n",
    "        if wife == 'y':\n",
    "            print('回家的诱惑')\n",
    "            else:\n",
    "                print('立马结婚')\n",
    "                else:\n",
    "                    print('考虑一下')\n",
    "                    else:\n",
    "                         print('拜拜')"
   ]
  },
  {
   "cell_type": "markdown",
   "metadata": {},
   "source": [
    "\n",
    "\n",
    "## EP：\n",
    "- 用户输入一个数字，判断其实奇数还是偶数\n",
    "- 进阶：可以查看下4.5实例研究猜生日"
   ]
  },
  {
   "cell_type": "markdown",
   "metadata": {},
   "source": [
    "## 双向if-else 语句\n",
    "- 如果条件为真，那么走if内部语句，否则走else内部语句"
   ]
  },
  {
   "cell_type": "markdown",
   "metadata": {},
   "source": [
    "## EP：\n",
    "- 产生两个随机整数number1和number2，然后显示给用户，使用户输入数字，并判定其是否正确,如果正确打印“you‘re correct”，否则打印正确错误"
   ]
  },
  {
   "cell_type": "markdown",
   "metadata": {},
   "source": [
    "## 嵌套if 和多向if-elif-else\n",
    "![](../Photo/35.png)"
   ]
  },
  {
   "cell_type": "code",
   "execution_count": null,
   "metadata": {},
   "outputs": [],
   "source": []
  },
  {
   "cell_type": "markdown",
   "metadata": {},
   "source": [
    "## EP：\n",
    "- 提示用户输入一个年份，然后显示表示这一年的动物\n",
    "![](../Photo/36.png)\n",
    "- 计算身体质量指数的程序\n",
    "- BMI = 以千克为单位的体重除以以米为单位的身高的平方\n",
    "![](../Photo/37.png)"
   ]
  },
  {
   "cell_type": "code",
   "execution_count": 31,
   "metadata": {},
   "outputs": [
    {
     "name": "stdout",
     "output_type": "stream",
     "text": [
      "请输入年份：1998\n",
      "虎\n"
     ]
    }
   ],
   "source": [
    "year = eval(input(\"请输入年份：\"))\n",
    "if year % 12 == 0:\n",
    "    print(\"猴\")\n",
    "if year % 12 == 1:\n",
    "    print(\"鸡\")\n",
    "if year % 12 == 2:\n",
    "    print(\"狗\")\n",
    "if year % 12 == 3:\n",
    "    print(\"猪\")\n",
    "if year % 12 == 4:\n",
    "    print(\"鼠\")\n",
    "if year % 12 == 5:\n",
    "    print(\"牛\")\n",
    "if year % 12 == 6:\n",
    "    print(\"虎\")\n",
    "if year % 12 == 7:\n",
    "    print(\"兔\")\n",
    "if year % 12 == 8:\n",
    "    print(\"龙\")\n",
    "if year % 12 == 9:\n",
    "    print(\"蛇\")\n",
    "if year % 12 == 10:\n",
    "    print(\"马\")\n",
    "if year % 12 == 11:\n",
    "    print(\"羊\")\n",
    "                                                    "
   ]
  },
  {
   "cell_type": "code",
   "execution_count": 32,
   "metadata": {},
   "outputs": [
    {
     "name": "stdout",
     "output_type": "stream",
     "text": [
      "请输入体重：44\n",
      "请输入身高：1.56\n",
      "超轻\n"
     ]
    }
   ],
   "source": [
    "weight = eval(input(\"请输入体重：\"))\n",
    "shengao = eval(input(\"请输入身高：\"))\n",
    "BMI = weight / (shengao * shengao)\n",
    "if BMI < 18.5:\n",
    "    print(\"超轻\")\n",
    "if 18.5<=BMI<=25.0:\n",
    "    print(\"标准\")\n",
    "if 25.0<=BMI<=30.0:\n",
    "    print(\"超重\")\n",
    "if BMI>=30.0:\n",
    "    print(\"痴肥\")"
   ]
  },
  {
   "cell_type": "markdown",
   "metadata": {},
   "source": [
    "## 逻辑运算符\n",
    "![](../Photo/38.png)"
   ]
  },
  {
   "cell_type": "markdown",
   "metadata": {},
   "source": [
    "![](../Photo/39.png)\n",
    "![](../Photo/40.png)"
   ]
  },
  {
   "cell_type": "markdown",
   "metadata": {},
   "source": [
    "## EP：\n",
    "- 判定闰年：一个年份如果能被4整除但不能被100整除，或者能被400整除，那么这个年份就是闰年\n",
    "- 提示用户输入一个年份，并返回是否是闰年\n",
    "- 提示用户输入一个数字，判断其是否为水仙花数"
   ]
  },
  {
   "cell_type": "code",
   "execution_count": 39,
   "metadata": {},
   "outputs": [
    {
     "name": "stdout",
     "output_type": "stream",
     "text": [
      "请输入年份：2000\n",
      "闰年\n"
     ]
    }
   ],
   "source": [
    "year = eval(input(\"请输入年份：\"))\n",
    "if year % 4 == 0 and year % 100 != 0 or year % 400 == 0:\n",
    "    print(\"闰年\")\n",
    "else:\n",
    "    print(\"平年\")"
   ]
  },
  {
   "cell_type": "code",
   "execution_count": 42,
   "metadata": {},
   "outputs": [
    {
     "name": "stdout",
     "output_type": "stream",
     "text": [
      "请输入年份：1998\n",
      "1998 是平年\n"
     ]
    }
   ],
   "source": [
    "year = eval(input(\"请输入年份：\"))\n",
    "if year % 4 == 0 and year % 100 != 0 or year % 400 == 0:\n",
    "    print(year,\"是闰年\")\n",
    "else:\n",
    "    print(year,\"是平年\")"
   ]
  },
  {
   "cell_type": "code",
   "execution_count": 46,
   "metadata": {},
   "outputs": [
    {
     "name": "stdout",
     "output_type": "stream",
     "text": [
      "请输入一个数：153\n",
      "153 是水仙花数\n"
     ]
    }
   ],
   "source": [
    "num = eval(input(\"请输入一个数：\"))\n",
    "a = num // 100\n",
    "b = num //10%10\n",
    "c = num % 10\n",
    "if num == a ** 3 + b ** 3 + c ** 3:\n",
    "    print(num,\"是水仙花数\")\n",
    "else:\n",
    "    print(num,\"不是水仙花数\")"
   ]
  },
  {
   "cell_type": "markdown",
   "metadata": {},
   "source": [
    "## 实例研究：彩票\n",
    "![](../Photo/41.png)"
   ]
  },
  {
   "cell_type": "code",
   "execution_count": null,
   "metadata": {},
   "outputs": [],
   "source": [
    "import random"
   ]
  },
  {
   "cell_type": "code",
   "execution_count": 47,
   "metadata": {},
   "outputs": [
    {
     "ename": "NameError",
     "evalue": "name 'ramdom' is not defined",
     "output_type": "error",
     "traceback": [
      "\u001b[1;31m---------------------------------------------------------------------------\u001b[0m",
      "\u001b[1;31mNameError\u001b[0m                                 Traceback (most recent call last)",
      "\u001b[1;32m<ipython-input-47-712f25e4e224>\u001b[0m in \u001b[0;36m<module>\u001b[1;34m\u001b[0m\n\u001b[1;32m----> 1\u001b[1;33m \u001b[0mnum\u001b[0m \u001b[1;33m=\u001b[0m \u001b[0mramdom\u001b[0m\u001b[1;33m.\u001b[0m\u001b[0mrandint\u001b[0m\u001b[1;33m(\u001b[0m\u001b[1;36m10\u001b[0m\u001b[1;33m,\u001b[0m\u001b[1;36m99\u001b[0m\u001b[1;33m)\u001b[0m\u001b[1;33m\u001b[0m\u001b[1;33m\u001b[0m\u001b[0m\n\u001b[0m\u001b[0;32m      2\u001b[0m \u001b[0mprint\u001b[0m\u001b[1;33m(\u001b[0m\u001b[0mnumber\u001b[0m\u001b[1;33m)\u001b[0m\u001b[1;33m\u001b[0m\u001b[1;33m\u001b[0m\u001b[0m\n\u001b[0;32m      3\u001b[0m \u001b[0mN\u001b[0m \u001b[1;33m=\u001b[0m \u001b[0minput\u001b[0m\u001b[1;33m(\u001b[0m\u001b[1;34m'>>'\u001b[0m\u001b[1;33m)\u001b[0m\u001b[1;33m\u001b[0m\u001b[1;33m\u001b[0m\u001b[0m\n\u001b[0;32m      4\u001b[0m \u001b[0mnum_shi\u001b[0m \u001b[1;33m=\u001b[0m \u001b[0mnum\u001b[0m \u001b[1;33m//\u001b[0m \u001b[1;36m10\u001b[0m\u001b[1;33m\u001b[0m\u001b[1;33m\u001b[0m\u001b[0m\n\u001b[0;32m      5\u001b[0m \u001b[0mnum2_ge\u001b[0m\u001b[1;33m=\u001b[0m \u001b[0mnum\u001b[0m \u001b[1;33m%\u001b[0m\u001b[1;36m10\u001b[0m\u001b[1;33m\u001b[0m\u001b[1;33m\u001b[0m\u001b[0m\n",
      "\u001b[1;31mNameError\u001b[0m: name 'ramdom' is not defined"
     ]
    }
   ],
   "source": [
    "num = ramdom.randint(10,99)\n",
    "print(number)\n",
    "N = input('>>')\n",
    "num_shi = num // 10\n",
    "num2_ge= num %10\n",
    "if N[0] == '0':\n",
    "    N_shi = 0\n",
    "else:\n",
    "    N_shi = int(N)//10\n",
    "    N_ge = int(N) % 10\n",
    "if num == N:\n",
    "    print(\"10000元\")\n",
    "elif(num_shi ==N_shi or num_shi == N_ge)and (num_ge == N_shi or num_ge == N_ge):\n",
    "    print(\"3000元\")\n",
    "elif(num_ge == N_ge or num_ge == N_shi)or(num_shi == N_ge or num_shi == N_shi):\n",
    "    print(\"1000元\")"
   ]
  },
  {
   "cell_type": "code",
   "execution_count": null,
   "metadata": {},
   "outputs": [],
   "source": [
    "num =eval(input(\"请输入一个两位数：\"))\n",
    "b = 58\n",
    "if num  == b :\n",
    "    print(\"奖金为10000元\")\n",
    "if num == b and :\n",
    "    print(\"奖金为3000元：\")\n",
    "if num"
   ]
  },
  {
   "cell_type": "markdown",
   "metadata": {},
   "source": [
    "# Homework\n",
    "- 1\n",
    "![](../Photo/42.png)"
   ]
  },
  {
   "cell_type": "code",
   "execution_count": 54,
   "metadata": {},
   "outputs": [
    {
     "name": "stdout",
     "output_type": "stream",
     "text": [
      "输入三个数：1.0,3,1\n",
      "方程有两个实根，分别是： -0.25 -2.75\n"
     ]
    }
   ],
   "source": [
    "a,b,c = eval(input('输入三个数：'))\n",
    "d = b * b - 4 * a * c\n",
    "r1 = (-b + d**1/2)/2 * a\n",
    "r2 = (-b - d**1/2)/2 * a\n",
    "if d < 0:\n",
    "    print('The equation has no real roots')\n",
    "if d > 0:\n",
    "    print('方程有两个实根，分别是：',r1,r2)\n",
    "if d == 0:\n",
    "    print('方程有一个实根',r1)"
   ]
  },
  {
   "cell_type": "code",
   "execution_count": 55,
   "metadata": {},
   "outputs": [
    {
     "name": "stdout",
     "output_type": "stream",
     "text": [
      "输入三个数：1,2.0,1\n",
      "方程有一个实根 -1.0\n"
     ]
    }
   ],
   "source": [
    "a,b,c = eval(input('输入三个数：'))\n",
    "d = b * b - 4 * a * c\n",
    "r1 = (-b + d**1/2)/2 * a\n",
    "r2 = (-b - d**1/2)/2 * a\n",
    "if d < 0:\n",
    "    print('The equation has no real roots')\n",
    "if d > 0:\n",
    "    print('方程有两个实根，分别是：',r1,r2)\n",
    "if d == 0:\n",
    "    print('方程有一个实根',r1)"
   ]
  },
  {
   "cell_type": "code",
   "execution_count": 56,
   "metadata": {},
   "outputs": [
    {
     "name": "stdout",
     "output_type": "stream",
     "text": [
      "输入三个数：1,2,3\n",
      "The equation has no real roots\n"
     ]
    }
   ],
   "source": [
    "a,b,c = eval(input('输入三个数：'))\n",
    "d = b * b - 4 * a * c\n",
    "r1 = (-b + d**1/2)/2 * a\n",
    "r2 = (-b - d**1/2)/2 * a\n",
    "if d < 0:\n",
    "    print('The equation has no real roots')\n",
    "if d > 0:\n",
    "    print('方程有两个实根，分别是：',r1,r2)\n",
    "if d == 0:\n",
    "    print('方程有一个实根',r1)"
   ]
  },
  {
   "cell_type": "markdown",
   "metadata": {},
   "source": [
    "- 2\n",
    "![](../Photo/43.png)"
   ]
  },
  {
   "cell_type": "code",
   "execution_count": 3,
   "metadata": {},
   "outputs": [
    {
     "name": "stdout",
     "output_type": "stream",
     "text": [
      ">>54\n",
      "假\n"
     ]
    }
   ],
   "source": [
    "import random\n",
    "number1 = random.randrange(0,100)\n",
    "number2 = random.randrange(0,100)\n",
    "number3 = eval(input(\">>\"))\n",
    "if number3 == number2 + number1:\n",
    "    print(\"真\")\n",
    "if number3 != number1 + number2:\n",
    "    print(\"假\")"
   ]
  },
  {
   "cell_type": "markdown",
   "metadata": {},
   "source": [
    "- 3\n",
    "![](../Photo/44.png)"
   ]
  },
  {
   "cell_type": "code",
   "execution_count": 25,
   "metadata": {},
   "outputs": [
    {
     "name": "stdout",
     "output_type": "stream",
     "text": [
      "输入今天是星期几：2\n",
      "今天之后到未来某天的天数:3\n",
      "Today is 2 and the future day is Friday\n"
     ]
    }
   ],
   "source": [
    "today = eval(input('输入今天是星期几：'))\n",
    "n = eval(input('今天之后到未来某天的天数:'))\n",
    "day_f = (today + n) % 7\n",
    "if day_f == 0:\n",
    "    print('Today is',today,'and the future day is Sunday')\n",
    "elif day_f == 1:\n",
    "    print('Today is',today,'and the future day is Monday')\n",
    "elif day_f == 2:\n",
    "    print('Today is',today,'and the future day is Tuesday')\n",
    "elif day_f == 3:\n",
    "    print('Today is',today,'and the future day is Wednesday')\n",
    "elif day_f == 4:\n",
    "    print('Today is',today,'and the future day is Thursday')\n",
    "elif day_f == 5:\n",
    "    print('Today is',today,'and the future day is Friday')\n",
    "elif day_f == 6:\n",
    "    print('Today is',today,'and the future day is Saturday')"
   ]
  },
  {
   "cell_type": "markdown",
   "metadata": {},
   "source": [
    "- 4\n",
    "![](../Photo/45.png)"
   ]
  },
  {
   "cell_type": "code",
   "execution_count": 3,
   "metadata": {},
   "outputs": [
    {
     "name": "stdout",
     "output_type": "stream",
     "text": [
      "请输入三个整数：231,520,954\n",
      "231 520 954\n"
     ]
    }
   ],
   "source": [
    "a,b,c = eval(input('请输入三个整数：'))\n",
    "if a>b>c:\n",
    "    print(c,b,a)\n",
    "elif b>a>c:\n",
    "    print(c,a,b)\n",
    "elif a>c>b:\n",
    "    print(b,c,a)\n",
    "elif b>c>a:\n",
    "    print(a,c,b)\n",
    "elif c>a>b:\n",
    "    print(b,a,c)\n",
    "elif c>b>a:\n",
    "    print(a,b,c)"
   ]
  },
  {
   "cell_type": "markdown",
   "metadata": {},
   "source": [
    "- 5\n",
    "![](../Photo/46.png)"
   ]
  },
  {
   "cell_type": "code",
   "execution_count": 4,
   "metadata": {},
   "outputs": [
    {
     "name": "stdout",
     "output_type": "stream",
     "text": [
      "输入包1的重量和价钱：50,24.59\n",
      "输入包2的重量和价钱：25,11.99\n",
      "Package2 has the better price\n"
     ]
    }
   ],
   "source": [
    "weight1,price1 = eval(input('输入包1的重量和价钱：'))\n",
    "weight2,price2 = eval(input('输入包2的重量和价钱：'))\n",
    "per1 = price1 / weight1\n",
    "per2 = price2 / weight2\n",
    "per = per1 or per2\n",
    "if per1 > per2 or per2 > per1:\n",
    "    print('Package2 has the better price' or 'Package2 has the better price')"
   ]
  },
  {
   "cell_type": "markdown",
   "metadata": {},
   "source": [
    "- 6\n",
    "![](../Photo/47.png)"
   ]
  },
  {
   "cell_type": "code",
   "execution_count": 7,
   "metadata": {},
   "outputs": [
    {
     "name": "stdout",
     "output_type": "stream",
     "text": [
      "输入月份,输入年份：12,2019\n",
      "2019 年是平年\n",
      "这个月有31天\n"
     ]
    }
   ],
   "source": [
    "mon,year = eval(input('输入月份,输入年份：'))\n",
    "if (year % 100 !=0 and year % 4==0 or year % 400==0):\n",
    "    print(year,'年是闰年')\n",
    "else:\n",
    "    print(year,'年是平年')\n",
    "if mon in (1,3,5,7,8,10,12):\n",
    "    print('这个月有31天')\n",
    "elif mon == 2:\n",
    "    print('29天')\n",
    "else:\n",
    "    print('28天')\n",
    "    print('30天')"
   ]
  },
  {
   "cell_type": "markdown",
   "metadata": {},
   "source": [
    "- 7\n",
    "![](../Photo/48.png)"
   ]
  },
  {
   "cell_type": "code",
   "execution_count": 2,
   "metadata": {},
   "outputs": [
    {
     "name": "stdout",
     "output_type": "stream",
     "text": [
      "输入一个猜测值：0\n",
      "错误\n"
     ]
    }
   ],
   "source": [
    "a = 1\n",
    "b = 0\n",
    "c = eval(input('输入一个猜测值：'))\n",
    "if c == a:\n",
    "    print(\"正确\")\n",
    "if c == b:\n",
    "    print(\"错误\")"
   ]
  },
  {
   "cell_type": "markdown",
   "metadata": {},
   "source": [
    "- 8\n",
    "![](../Photo/49.png)"
   ]
  },
  {
   "cell_type": "code",
   "execution_count": 17,
   "metadata": {},
   "outputs": [
    {
     "name": "stdout",
     "output_type": "stream",
     "text": [
      "scissor(0),rock(1),paper(2):1\n",
      "The computer is paper.You are rock.The computer won\n"
     ]
    }
   ],
   "source": [
    "s = 0\n",
    "r = 1\n",
    "p = 2\n",
    "a = eval(input('scissor(0),rock(1),paper(2):'))\n",
    "if a == s:\n",
    "    print('The computer is paper.You are scissor.The computer won'or 'The computer is scissor.You are scissor too.It is a draw.'or 'The computer is rock.You are scissor.The computer won')\n",
    "elif a == r:\n",
    "    print('The computer is paper.You are rock.The computer won'or 'The computer is scissor.You are rock.You won.'or 'The computer is rock.You are rock too.It is a draw')\n",
    "elif a == p:\n",
    "    print('The computer is paper.You are paper too.It is a draw'or 'The computer is scissor.You are paper.The computer won.'or 'The computer is rock.You are paper.You won')"
   ]
  },
  {
   "cell_type": "code",
   "execution_count": null,
   "metadata": {},
   "outputs": [],
   "source": [
    "- 9\n",
    "![](../Photo/50.png)"
   ]
  },
  {
   "cell_type": "code",
   "execution_count": 1,
   "metadata": {},
   "outputs": [
    {
     "name": "stdout",
     "output_type": "stream",
     "text": [
      "请输入年份：2019\n",
      "请输入月份：4\n",
      "请输入日期：30\n"
     ]
    },
    {
     "ename": "TypeError",
     "evalue": "'method' object is not subscriptable",
     "output_type": "error",
     "traceback": [
      "\u001b[1;31m---------------------------------------------------------------------------\u001b[0m",
      "\u001b[1;31mTypeError\u001b[0m                                 Traceback (most recent call last)",
      "\u001b[1;32m<ipython-input-1-dd51dc7d569f>\u001b[0m in \u001b[0;36m<module>\u001b[1;34m\u001b[0m\n\u001b[0;32m      3\u001b[0m \u001b[0mm\u001b[0m \u001b[1;33m=\u001b[0m \u001b[0meval\u001b[0m\u001b[1;33m(\u001b[0m\u001b[0minput\u001b[0m\u001b[1;33m(\u001b[0m\u001b[1;34m'请输入月份：'\u001b[0m\u001b[1;33m)\u001b[0m\u001b[1;33m)\u001b[0m\u001b[1;33m\u001b[0m\u001b[1;33m\u001b[0m\u001b[0m\n\u001b[0;32m      4\u001b[0m \u001b[0mday\u001b[0m \u001b[1;33m=\u001b[0m \u001b[0meval\u001b[0m\u001b[1;33m(\u001b[0m\u001b[0minput\u001b[0m\u001b[1;33m(\u001b[0m\u001b[1;34m'请输入日期：'\u001b[0m\u001b[1;33m)\u001b[0m\u001b[1;33m)\u001b[0m\u001b[1;33m\u001b[0m\u001b[1;33m\u001b[0m\u001b[0m\n\u001b[1;32m----> 5\u001b[1;33m \u001b[0mq\u001b[0m \u001b[1;33m=\u001b[0m \u001b[0mrandom\u001b[0m\u001b[1;33m.\u001b[0m\u001b[0mrandint\u001b[0m\u001b[1;33m[\u001b[0m\u001b[1;36m0\u001b[0m\u001b[1;33m,\u001b[0m\u001b[1;36m32\u001b[0m\u001b[1;33m]\u001b[0m\u001b[1;33m\u001b[0m\u001b[1;33m\u001b[0m\u001b[0m\n\u001b[0m\u001b[0;32m      6\u001b[0m \u001b[0mk\u001b[0m \u001b[1;33m=\u001b[0m \u001b[0myear\u001b[0m \u001b[1;33m%\u001b[0m \u001b[1;36m100\u001b[0m\u001b[1;33m\u001b[0m\u001b[1;33m\u001b[0m\u001b[0m\n\u001b[0;32m      7\u001b[0m \u001b[0mj\u001b[0m \u001b[1;33m=\u001b[0m \u001b[0myear\u001b[0m \u001b[1;33m/\u001b[0m \u001b[1;36m100\u001b[0m\u001b[1;33m\u001b[0m\u001b[1;33m\u001b[0m\u001b[0m\n",
      "\u001b[1;31mTypeError\u001b[0m: 'method' object is not subscriptable"
     ]
    }
   ],
   "source": []
  },
  {
   "cell_type": "markdown",
   "metadata": {},
   "source": [
    "- 10\n",
    "![](../Photo/51.png)"
   ]
  },
  {
   "cell_type": "code",
   "execution_count": null,
   "metadata": {},
   "outputs": [],
   "source": [
    "a = 'Ace'\n",
    "b = 2\n",
    "c = 3\n",
    "d = 4\n",
    "e = 5\n",
    "f = 6\n",
    "g = 7\n",
    "h = 8\n",
    "i = 9\n",
    "k = 10\n",
    "l = str('Jack')\n",
    "m = str('Queen')\n",
    "n = str('King')\n",
    "o = str('meihua')\n",
    "p = str('hongtao')\n",
    "q = str('fangkuai')\n",
    "r = str('heitao')\n",
    "s = str(input('请选出一张牌：'))\n",
    "if s==a or s==b or s==c or s==d or s==e or s==f or s==g or s==h or s==i:\n",
    "    print('The card you picked is the',a or b or c or d or e or f or g or h or i)"
   ]
  },
  {
   "cell_type": "code",
   "execution_count": null,
   "metadata": {},
   "outputs": [],
   "source": [
    "a = random.randint[1,11]\n",
    "b= str('Jack')\n",
    "c = str('Queen')\n",
    "c = str('King')\n",
    "d = str('meihua')\n",
    "e = str('hongtao')\n",
    "f = str('fangkuai')\n",
    "g = str('heitao')\n"
   ]
  },
  {
   "cell_type": "markdown",
   "metadata": {},
   "source": [
    "- 11\n",
    "![](../Photo/52.png)"
   ]
  },
  {
   "cell_type": "code",
   "execution_count": 20,
   "metadata": {},
   "outputs": [
    {
     "name": "stdout",
     "output_type": "stream",
     "text": [
      "输入一个数：13031\n",
      "13031 是回文数\n"
     ]
    }
   ],
   "source": [
    "num = int(eval(input('输入一个数：')))\n",
    "num = str(num)\n",
    "if num [:]== num [::-1]:\n",
    "    print(num,'是回文数')\n",
    "else:\n",
    "    print(num,'不是回文数')"
   ]
  },
  {
   "cell_type": "markdown",
   "metadata": {},
   "source": [
    "- 12\n",
    "![](../Photo/53.png)"
   ]
  },
  {
   "cell_type": "code",
   "execution_count": 19,
   "metadata": {},
   "outputs": [
    {
     "name": "stdout",
     "output_type": "stream",
     "text": [
      "输入三边的长度：2,1,5\n",
      "这个输入是非法的\n"
     ]
    }
   ],
   "source": [
    "a,b,c = eval(input(\"输入三边的长度：\"))\n",
    "d = a+b+c\n",
    "if (a+b>c and a+c>b and b+c>a):\n",
    "    print('The perimeter is:',d)\n",
    "else:\n",
    "    print('这个输入是非法的')"
   ]
  },
  {
   "cell_type": "code",
   "execution_count": 20,
   "metadata": {},
   "outputs": [
    {
     "name": "stdout",
     "output_type": "stream",
     "text": [
      "输入三边的长度：1,1,1\n",
      "The perimeter is: 3\n"
     ]
    }
   ],
   "source": [
    "a,b,c = eval(input(\"输入三边的长度：\"))\n",
    "d = a+b+c\n",
    "if (a+b>c and a+c>b and b+c>a):\n",
    "    print('The perimeter is:',d)\n",
    "else:\n",
    "    print('这个输入是非法的')"
   ]
  }
 ],
 "metadata": {
  "kernelspec": {
   "display_name": "Python 3",
   "language": "python",
   "name": "python3"
  },
  "language_info": {
   "codemirror_mode": {
    "name": "ipython",
    "version": 3
   },
   "file_extension": ".py",
   "mimetype": "text/x-python",
   "name": "python",
   "nbconvert_exporter": "python",
   "pygments_lexer": "ipython3",
   "version": "3.7.3"
  }
 },
 "nbformat": 4,
 "nbformat_minor": 2
}
