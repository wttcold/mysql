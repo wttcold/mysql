{
 "cells": [
  {
   "cell_type": "markdown",
   "metadata": {},
   "source": [
    "# 数学函数、字符串和对象\n",
    "## 本章介绍Python函数来执行常见的数学运算\n",
    "- 函数是完成一个特殊任务的一组语句，可以理解为一个函数相当于一个小功能，但是在开发中，需要注意一个函数的长度最好不要超过一屏\n",
    "- Python中的内置函数是不需要Import导入的\n",
    "<img src=\"../Photo/15.png\"></img>"
   ]
  },
  {
   "cell_type": "code",
   "execution_count": 6,
   "metadata": {},
   "outputs": [
    {
     "data": {
      "text/plain": [
       "'m'"
      ]
     },
     "execution_count": 6,
     "metadata": {},
     "output_type": "execute_result"
    }
   ],
   "source": [
    "max('kim')"
   ]
  },
  {
   "cell_type": "code",
   "execution_count": 8,
   "metadata": {},
   "outputs": [
    {
     "data": {
      "text/plain": [
       "89"
      ]
     },
     "execution_count": 8,
     "metadata": {},
     "output_type": "execute_result"
    }
   ],
   "source": [
    "max(1,5,65,89)"
   ]
  },
  {
   "cell_type": "markdown",
   "metadata": {},
   "source": [
    "## 尝试练习Python内置函数"
   ]
  },
  {
   "cell_type": "markdown",
   "metadata": {},
   "source": [
    "## Python中的math模块提供了许多数学函数\n",
    "<img src=\"../Photo/16.png\"></img>\n",
    "<img src=\"../Photo/17.png\"></img>\n"
   ]
  },
  {
   "cell_type": "code",
   "execution_count": 9,
   "metadata": {},
   "outputs": [
    {
     "data": {
      "text/plain": [
       "1.0"
      ]
     },
     "execution_count": 9,
     "metadata": {},
     "output_type": "execute_result"
    }
   ],
   "source": [
    "import math\n",
    "math.log(10,10)"
   ]
  },
  {
   "cell_type": "code",
   "execution_count": 10,
   "metadata": {},
   "outputs": [
    {
     "data": {
      "text/plain": [
       "1.4142135623730951"
      ]
     },
     "execution_count": 10,
     "metadata": {},
     "output_type": "execute_result"
    }
   ],
   "source": [
    "math.sqrt(2)"
   ]
  },
  {
   "cell_type": "code",
   "execution_count": 11,
   "metadata": {},
   "outputs": [
    {
     "data": {
      "text/plain": [
       "1.5707963267948966"
      ]
     },
     "execution_count": 11,
     "metadata": {},
     "output_type": "execute_result"
    }
   ],
   "source": [
    "math.radians(90)"
   ]
  },
  {
   "cell_type": "markdown",
   "metadata": {},
   "source": [
    "## 两个数学常量PI和e，可以通过使用math.pi 和math.e调用"
   ]
  },
  {
   "cell_type": "markdown",
   "metadata": {},
   "source": [
    "## EP:\n",
    "- 通过math库，写一个程序，使得用户输入三个顶点(x,y)返回三个角度\n",
    "- 注意：Python计算角度为弧度制，需要将其转换为角度\n",
    "<img src=\"../Photo/18.png\">"
   ]
  },
  {
   "cell_type": "code",
   "execution_count": 2,
   "metadata": {},
   "outputs": [
    {
     "name": "stdout",
     "output_type": "stream",
     "text": [
      "x1,y10,0\n",
      "x2,y20,1\n",
      "x3,y31,1\n",
      "44.999999999999986\n",
      "44.999999999999986\n",
      "90.00000000000001\n"
     ]
    }
   ],
   "source": [
    "import math\n",
    "x1,y1 = eval(input('x1,y1'))\n",
    "x2,y2 = eval(input('x2,y2'))\n",
    "x3,y3 = eval(input('x3,y3'))\n",
    "a = 1\n",
    "b = 1\n",
    "c = math.sqrt(2)\n",
    "part_1 = -2 * b * c\n",
    "part_2 = -2 * a * c\n",
    "part_3 = -2 * b * a\n",
    "A = math.acos((math.pow(a,2)-math.pow(b,2)-math.pow(c,2))/part_1)\n",
    "B = math.acos((math.pow(b,2)-math.pow(a,2)-math.pow(c,2))/part_2)\n",
    "C = math.acos((math.pow(c,2)-math.pow(b,2)-math.pow(a,2))/part_3)\n",
    "print(math.degrees(A))\n",
    "print(math.degrees(B))\n",
    "print(math.degrees(C))"
   ]
  },
  {
   "cell_type": "code",
   "execution_count": 12,
   "metadata": {},
   "outputs": [
    {
     "name": "stdout",
     "output_type": "stream",
     "text": [
      "x1,y10,0\n",
      "x2,y20,1\n",
      "x3,y31,1\n",
      "44.999999999999986\n",
      "90.00000000000001\n",
      "44.999999999999986\n"
     ]
    }
   ],
   "source": [
    "x1,y1 = eval(input('x1,y1'))\n",
    "x2,y2 = eval(input('x2,y2'))\n",
    "x3,y3 = eval(input('x3,y3'))\n",
    "a = math.sqrt(math.pow(x2-x3,2)+math.pow(y2-y3,2))\n",
    "b = math.sqrt(math.pow(x1-x3,2)+math.pow(y1-y3,2))\n",
    "c = math.sqrt(math.pow(x2-x1,2)+math.pow(y2-y1,2))\n",
    "part_1 = -2 * b * c\n",
    "part_2 = -2 * a * c\n",
    "part_3 = -2 * b * a\n",
    "A = math.acos((math.pow(a,2)-math.pow(b,2)-math.pow(c,2))/part_1)\n",
    "B = math.acos((math.pow(b,2)-math.pow(a,2)-math.pow(c,2))/part_2)\n",
    "C = math.acos((math.pow(c,2)-math.pow(b,2)-math.pow(a,2))/part_3)\n",
    "print(math.degrees(A))\n",
    "print(math.degrees(B))\n",
    "print(math.degrees(C))"
   ]
  },
  {
   "cell_type": "markdown",
   "metadata": {},
   "source": [
    "## 字符串和字符\n",
    "- 在Python中，字符串必须是在单引号或者双引号内，在多段换行的字符串中可以使用“”“\n",
    "- 在使用”“”时，给予其变量则变为字符串，否则当多行注释使用"
   ]
  },
  {
   "cell_type": "code",
   "execution_count": 14,
   "metadata": {},
   "outputs": [
    {
     "data": {
      "text/plain": [
       "0.2925026159575983"
      ]
     },
     "execution_count": 14,
     "metadata": {},
     "output_type": "execute_result"
    }
   ],
   "source": [
    "import random\n",
    "random.random()#输出结果为0到1的值"
   ]
  },
  {
   "cell_type": "markdown",
   "metadata": {},
   "source": [
    "## ASCII码与Unicode码\n",
    "- <img src=\"../Photo/19.png\"></img>\n",
    "- <img src=\"../Photo/20.png\"></img>\n",
    "- <img src=\"../Photo/21.png\"></img>"
   ]
  },
  {
   "cell_type": "markdown",
   "metadata": {},
   "source": [
    "## 函数ord、chr\n",
    "- ord 返回ASCII码值\n",
    "- chr 返回字符"
   ]
  },
  {
   "cell_type": "code",
   "execution_count": 4,
   "metadata": {},
   "outputs": [
    {
     "data": {
      "text/plain": [
       "97"
      ]
     },
     "execution_count": 4,
     "metadata": {},
     "output_type": "execute_result"
    }
   ],
   "source": [
    "ord('a')"
   ]
  },
  {
   "cell_type": "code",
   "execution_count": 3,
   "metadata": {},
   "outputs": [
    {
     "data": {
      "text/plain": [
       "'ɨ'"
      ]
     },
     "execution_count": 3,
     "metadata": {},
     "output_type": "execute_result"
    }
   ],
   "source": [
    "chr((ord('H')+5)*8)"
   ]
  },
  {
   "cell_type": "markdown",
   "metadata": {},
   "source": [
    "## EP:\n",
    "- 利用ord与chr进行简单邮箱加密"
   ]
  },
  {
   "cell_type": "code",
   "execution_count": 1,
   "metadata": {},
   "outputs": [
    {
     "name": "stdout",
     "output_type": "stream",
     "text": [
      "youxiang4487@SB.com\n",
      "Ĉ\n"
     ]
    }
   ],
   "source": [
    "youxiang = input('youxiang')\n",
    "mima = chr((ord('#')-2)*8)\n",
    "print(mima)"
   ]
  },
  {
   "cell_type": "code",
   "execution_count": 15,
   "metadata": {},
   "outputs": [
    {
     "name": "stdout",
     "output_type": "stream",
     "text": [
      "b\n",
      "b`\n",
      "b`d\n",
      "b`d\u0017\n",
      "b`d\u0017`\n",
      "b`d\u0017`j\n",
      "b`d\u0017`j\u0017\n",
      "b`d\u0017`j\u0017X\n",
      "b`d\u0017`j\u0017X\u0017\n",
      "b`d\u0017`j\u0017X\u0017e\n",
      "b`d\u0017`j\u0017X\u0017e`\n",
      "b`d\u0017`j\u0017X\u0017e`Z\n",
      "b`d\u0017`j\u0017X\u0017e`Z\\\n",
      "b`d\u0017`j\u0017X\u0017e`Z\\\u0017\n",
      "b`d\u0017`j\u0017X\u0017e`Z\\\u0017^\n",
      "b`d\u0017`j\u0017X\u0017e`Z\\\u0017^`\n",
      "b`d\u0017`j\u0017X\u0017e`Z\\\u0017^`i\n",
      "b`d\u0017`j\u0017X\u0017e`Z\\\u0017^`ic\n"
     ]
    }
   ],
   "source": [
    "a = 'kim is a nice girl'\n",
    "c = ''\n",
    "for i in a:\n",
    "    b = chr(ord(i)-9)\n",
    "    c +=b\n",
    "    print(c)"
   ]
  },
  {
   "cell_type": "markdown",
   "metadata": {},
   "source": [
    "## 转义序列 \\\n",
    "- a = \"He said,\"Johon's program is easy to read\"\n",
    "- 转掉它原来的意思\n",
    "- 一般情况下只有当语句与默认方法相撞的时候，就需要转义"
   ]
  },
  {
   "cell_type": "markdown",
   "metadata": {},
   "source": [
    "1.三引号和单/双引号的区别是:\n",
    "- 三引号内可以使用换行,单/双引号\n",
    "- 三引号如果不加变量的话,代表是注释(可以换行注释)\n",
    "\n",
    "2.单/双引号内是不是可以加入单/双引号的,但是可以加入双/单.\n",
    "\n",
    "3.如果非要头铁,可以使用\"\\\\\"(转义字符),表示转掉它原来的意思."
   ]
  },
  {
   "cell_type": "markdown",
   "metadata": {},
   "source": [
    "## 高级print\n",
    "- 参数 end： 以什么方式结束打印\n",
    "- 默认换行打印"
   ]
  },
  {
   "cell_type": "code",
   "execution_count": null,
   "metadata": {},
   "outputs": [
    {
     "name": "stdout",
     "output_type": "stream",
     "text": [
      "##############"
     ]
    }
   ],
   "source": [
    "import time\n",
    "for i in range(100):\n",
    "    if i % 5 == 0:\n",
    "       print('#',end=\"\")\n",
    "    time.sleep(0.5)"
   ]
  },
  {
   "cell_type": "code",
   "execution_count": 5,
   "metadata": {},
   "outputs": [
    {
     "name": "stdout",
     "output_type": "stream",
     "text": [
      "kim\\nice\n",
      "lalala\n"
     ]
    }
   ],
   "source": [
    "print('kim',end = '\\\\')\n",
    "print('nice')\n",
    "print('lalala')"
   ]
  },
  {
   "cell_type": "markdown",
   "metadata": {},
   "source": [
    "## 函数str\n",
    "- 将类型强制转换成字符串类型\n",
    "- 其他一些以后会学到(list,set,tuple...)"
   ]
  },
  {
   "cell_type": "markdown",
   "metadata": {},
   "source": [
    "## 字符串连接操作\n",
    "- 直接使用 “+” \n",
    "- join() 函数 "
   ]
  },
  {
   "cell_type": "code",
   "execution_count": 5,
   "metadata": {},
   "outputs": [
    {
     "name": "stdout",
     "output_type": "stream",
     "text": [
      "http://op.hanhande.net/shtml/op_wz/list_2602_1.shtml\n",
      "http://op.hanhande.net/shtml/op_wz/list_2602_2.shtml\n",
      "http://op.hanhande.net/shtml/op_wz/list_2602_3.shtml\n",
      "http://op.hanhande.net/shtml/op_wz/list_2602_4.shtml\n",
      "http://op.hanhande.net/shtml/op_wz/list_2602_5.shtml\n",
      "http://op.hanhande.net/shtml/op_wz/list_2602_6.shtml\n",
      "http://op.hanhande.net/shtml/op_wz/list_2602_7.shtml\n",
      "http://op.hanhande.net/shtml/op_wz/list_2602_8.shtml\n",
      "http://op.hanhande.net/shtml/op_wz/list_2602_9.shtml\n",
      "http://op.hanhande.net/shtml/op_wz/list_2602_10.shtml\n",
      "http://op.hanhande.net/shtml/op_wz/list_2602_11.shtml\n",
      "http://op.hanhande.net/shtml/op_wz/list_2602_12.shtml\n",
      "http://op.hanhande.net/shtml/op_wz/list_2602_13.shtml\n",
      "http://op.hanhande.net/shtml/op_wz/list_2602_14.shtml\n",
      "http://op.hanhande.net/shtml/op_wz/list_2602_15.shtml\n",
      "http://op.hanhande.net/shtml/op_wz/list_2602_16.shtml\n",
      "http://op.hanhande.net/shtml/op_wz/list_2602_17.shtml\n",
      "http://op.hanhande.net/shtml/op_wz/list_2602_18.shtml\n",
      "http://op.hanhande.net/shtml/op_wz/list_2602_19.shtml\n",
      "http://op.hanhande.net/shtml/op_wz/list_2602_20.shtml\n",
      "http://op.hanhande.net/shtml/op_wz/list_2602_21.shtml\n",
      "http://op.hanhande.net/shtml/op_wz/list_2602_22.shtml\n",
      "http://op.hanhande.net/shtml/op_wz/list_2602_23.shtml\n",
      "http://op.hanhande.net/shtml/op_wz/list_2602_24.shtml\n",
      "http://op.hanhande.net/shtml/op_wz/list_2602_25.shtml\n",
      "http://op.hanhande.net/shtml/op_wz/list_2602_26.shtml\n",
      "http://op.hanhande.net/shtml/op_wz/list_2602_27.shtml\n"
     ]
    }
   ],
   "source": [
    "a = 'http://op.hanhande.net/shtml/op_wz/list_2602_'\n",
    "for i in range(1,28):\n",
    "    url= a + str(i) + '.shtml'\n",
    "    print(url)"
   ]
  },
  {
   "cell_type": "code",
   "execution_count": 16,
   "metadata": {},
   "outputs": [
    {
     "name": "stdout",
     "output_type": "stream",
     "text": [
      "http://op.hanhande.net/shtml/op_wz/list_2602_1shtml\n",
      "http://op.hanhande.net/shtml/op_wz/list_2602_2shtml\n",
      "http://op.hanhande.net/shtml/op_wz/list_2602_3shtml\n",
      "http://op.hanhande.net/shtml/op_wz/list_2602_4shtml\n",
      "http://op.hanhande.net/shtml/op_wz/list_2602_5shtml\n",
      "http://op.hanhande.net/shtml/op_wz/list_2602_6shtml\n",
      "http://op.hanhande.net/shtml/op_wz/list_2602_7shtml\n",
      "http://op.hanhande.net/shtml/op_wz/list_2602_8shtml\n",
      "http://op.hanhande.net/shtml/op_wz/list_2602_9shtml\n",
      "http://op.hanhande.net/shtml/op_wz/list_2602_10shtml\n",
      "http://op.hanhande.net/shtml/op_wz/list_2602_11shtml\n",
      "http://op.hanhande.net/shtml/op_wz/list_2602_12shtml\n",
      "http://op.hanhande.net/shtml/op_wz/list_2602_13shtml\n",
      "http://op.hanhande.net/shtml/op_wz/list_2602_14shtml\n",
      "http://op.hanhande.net/shtml/op_wz/list_2602_15shtml\n",
      "http://op.hanhande.net/shtml/op_wz/list_2602_16shtml\n",
      "http://op.hanhande.net/shtml/op_wz/list_2602_17shtml\n",
      "http://op.hanhande.net/shtml/op_wz/list_2602_18shtml\n",
      "http://op.hanhande.net/shtml/op_wz/list_2602_19shtml\n",
      "http://op.hanhande.net/shtml/op_wz/list_2602_20shtml\n",
      "http://op.hanhande.net/shtml/op_wz/list_2602_21shtml\n",
      "http://op.hanhande.net/shtml/op_wz/list_2602_22shtml\n",
      "http://op.hanhande.net/shtml/op_wz/list_2602_23shtml\n",
      "http://op.hanhande.net/shtml/op_wz/list_2602_24shtml\n",
      "http://op.hanhande.net/shtml/op_wz/list_2602_25shtml\n",
      "http://op.hanhande.net/shtml/op_wz/list_2602_26shtml\n",
      "http://op.hanhande.net/shtml/op_wz/list_2602_27shtml\n"
     ]
    }
   ],
   "source": [
    "a = 'http://op.hanhande.net/shtml/op_wz/list_2602_'\n",
    "for i in range(1,28):\n",
    "    url = \"\".join((a,str(i)))\n",
    "    URL = \"\".join((url,'shtml'))\n",
    "    print(URL)"
   ]
  },
  {
   "cell_type": "markdown",
   "metadata": {},
   "source": [
    "## EP：\n",
    "- 将 “Welcome” “to” \"Python\" 拼接\n",
    "- 将int型 100 与 “joker is a bad man” 拼接\n",
    "- 从控制台读取字符串\n",
    "> 输入一个名字返回夸奖此人"
   ]
  },
  {
   "cell_type": "code",
   "execution_count": 17,
   "metadata": {},
   "outputs": [
    {
     "name": "stdout",
     "output_type": "stream",
     "text": [
      "输入名字kim\n",
      "kim 真帅\n"
     ]
    }
   ],
   "source": [
    "name = input('输入名字')\n",
    "print(name,'真帅')"
   ]
  },
  {
   "cell_type": "markdown",
   "metadata": {},
   "source": [
    "## 实例研究：最小数量硬币\n",
    "- 开发一个程序，让用户输入总金额，这是一个用美元和美分表示的浮点值，返回一个由美元、两角五分的硬币、一角的硬币、五分硬币、以及美分个数\n",
    "<img src=\"../Photo/22.png\"></img>"
   ]
  },
  {
   "cell_type": "markdown",
   "metadata": {},
   "source": [
    "- Python弱项，对于浮点型的处理并不是很好，但是处理数据的时候使用的是Numpy类型\n",
    "<img src=\"../Photo/23.png\"></img>"
   ]
  },
  {
   "cell_type": "markdown",
   "metadata": {},
   "source": [
    "## id与type\n",
    "- id 查看内存地址，在判断语句中将会使用\n",
    "- type 查看元素类型"
   ]
  },
  {
   "cell_type": "markdown",
   "metadata": {},
   "source": [
    "## 其他格式化语句见书"
   ]
  },
  {
   "cell_type": "markdown",
   "metadata": {},
   "source": [
    "# Homework\n",
    "- 1\n",
    "<img src=\"../Photo/24.png\"><img>\n",
    "<img src=\"../Photo/25.png\"><img>"
   ]
  },
  {
   "cell_type": "code",
   "execution_count": 1,
   "metadata": {},
   "outputs": [
    {
     "name": "stdout",
     "output_type": "stream",
     "text": [
      "顶点到中心的距离: 3.2\n",
      "The area is:  24.347046647579926\n"
     ]
    }
   ],
   "source": [
    "import math\n",
    "r = eval(input('顶点到中心的距离: '))\n",
    "s = 2 * r * math.sin(3.1415926/5)\n",
    "part_1 = 5 * s * s\n",
    "part_2 = 4 * math.tan(3.1415926/5)\n",
    "S= part_1/part_2\n",
    "print('The area is: ',S)"
   ]
  },
  {
   "cell_type": "markdown",
   "metadata": {},
   "source": [
    "- 2\n",
    "<img src=\"../Photo/26.png\"><img>"
   ]
  },
  {
   "cell_type": "code",
   "execution_count": 2,
   "metadata": {},
   "outputs": [
    {
     "name": "stdout",
     "output_type": "stream",
     "text": [
      "x1,y1: 39.55,-116.25\n",
      "x2,y2: 41.5,87.37\n",
      "The distance is:  272.56901816965194\n"
     ]
    }
   ],
   "source": [
    "import math\n",
    "import numpy\n",
    "x1,y1 = eval(input('x1,y1: '))\n",
    "x2,y2 = eval(input('x2,y2: '))\n",
    "d = 6371.01  * numpy.arccos(math.sin(x1) *  math.sin(x2)+math.cos(x1) * math.cos(x2) * math.cos(y1-y2))\n",
    "e = math.radians(d)\n",
    "print('The distance is: ',e)"
   ]
  },
  {
   "cell_type": "code",
   "execution_count": 4,
   "metadata": {},
   "outputs": [
    {
     "name": "stdout",
     "output_type": "stream",
     "text": [
      "x1,y1：39.55,-116.25\n",
      "x2,y2：41.5,87.37\n",
      "The distance between the two points is 10691.79183231593 km\n"
     ]
    }
   ],
   "source": [
    "import math\n",
    "import numpy\n",
    "x1,y1 = eval(input('x1,y1：'))\n",
    "x2,y2 = eval(input('x2,y2：'))\n",
    "a = math.radians(x1)\n",
    "b = math.radians(y1)\n",
    "c = math.radians(x2)\n",
    "e = math.radians(y2)\n",
    "d = 6371.01*numpy.arccos(math.sin(a) * math.sin(c)+math.cos(a)*math.cos(c)*math.cos(b-e))\n",
    "print('The distance between the two points is',d,'km')"
   ]
  },
  {
   "cell_type": "markdown",
   "metadata": {},
   "source": [
    "- 3\n",
    "<img src=\"../Photo/27.png\"><img>"
   ]
  },
  {
   "cell_type": "code",
   "execution_count": 3,
   "metadata": {},
   "outputs": [
    {
     "name": "stdout",
     "output_type": "stream",
     "text": [
      "请输入边长s: 10.1\n",
      "The area is:  174.88674262930394\n"
     ]
    }
   ],
   "source": [
    "s = eval(input('请输入边长s: '))\n",
    "part_1 = 5 * s ** 2\n",
    "part_2 = 4 * math.tan(3.15/5)\n",
    "S= part_1/part_2\n",
    "print('The area is: ',S)"
   ]
  },
  {
   "cell_type": "markdown",
   "metadata": {},
   "source": [
    "- 4\n",
    "<img src=\"../Photo/28.png\"><img>"
   ]
  },
  {
   "cell_type": "code",
   "execution_count": 4,
   "metadata": {},
   "outputs": [
    {
     "name": "stdout",
     "output_type": "stream",
     "text": [
      "请输入边长s： 4.8\n",
      "请输入边数n： 5\n",
      "The area is: 39.639800203013515\n"
     ]
    }
   ],
   "source": [
    "import math\n",
    "s = eval(input('请输入边长s： '))\n",
    "n = eval(input('请输入边数n： '))\n",
    "part_1 = n * s ** 2\n",
    "part_2 = 4 * math.tan(3.1415926/n)\n",
    "S = part_1/part_2\n",
    "print(\"The area is:\",S)"
   ]
  },
  {
   "cell_type": "markdown",
   "metadata": {},
   "source": [
    "- 5\n",
    "<img src=\"../Photo/29.png\"><img>\n",
    "<img src=\"../Photo/30.png\"><img>"
   ]
  },
  {
   "cell_type": "code",
   "execution_count": 29,
   "metadata": {},
   "outputs": [
    {
     "data": {
      "text/plain": [
       "106"
      ]
     },
     "execution_count": 29,
     "metadata": {},
     "output_type": "execute_result"
    }
   ],
   "source": [
    "ord('j')"
   ]
  },
  {
   "cell_type": "code",
   "execution_count": 30,
   "metadata": {},
   "outputs": [
    {
     "data": {
      "text/plain": [
       "'j'"
      ]
     },
     "execution_count": 30,
     "metadata": {},
     "output_type": "execute_result"
    }
   ],
   "source": [
    "chr(106)"
   ]
  },
  {
   "cell_type": "code",
   "execution_count": 2,
   "metadata": {},
   "outputs": [
    {
     "name": "stdout",
     "output_type": "stream",
     "text": [
      "输入一个ASCII code: 106\n",
      "The character is :  j\n"
     ]
    }
   ],
   "source": [
    "a = eval(input('输入一个ASCII code: '))\n",
    "b = chr(a)\n",
    "print(\"The character is : \",b)"
   ]
  },
  {
   "cell_type": "markdown",
   "metadata": {},
   "source": [
    "- 6\n",
    "<img src=\"../Photo/31.png\"><img>"
   ]
  },
  {
   "cell_type": "code",
   "execution_count": 24,
   "metadata": {},
   "outputs": [
    {
     "name": "stdout",
     "output_type": "stream",
     "text": [
      "输入员工姓名： Smith\n",
      "一周工作时间： 10\n",
      "每小时报酬： 9.75\n",
      "联邦预扣税率: 0.2\n",
      "州预扣税率: 0.09\n",
      "Employee Name:  Smith\n",
      "Hours Worked:  10\n",
      "Pay Rate:  9.75\n",
      "Gross Pay:  97.5\n",
      "Deductions:\n",
      "Federal Withholding(20.0%):  19.5\n",
      "State Withholding(9.0%):  8.775\n",
      "Total Deduction:  28.275\n",
      "Net Pay:  69.225\n"
     ]
    }
   ],
   "source": [
    "a = input(\"输入员工姓名： \")\n",
    "b = eval(input(\"一周工作时间： \"))\n",
    "c = eval(input(\"每小时报酬： \"))    \n",
    "d = eval(input(\"联邦预扣税率: \"))\n",
    "e = eval(input(\"州预扣税率: \"))\n",
    "f = 97.5\n",
    "g = f * 0.2\n",
    "h = f * 0.09\n",
    "i = g + h\n",
    "j = f - g - h\n",
    "print('Employee Name: ',a)\n",
    "print('Hours Worked: ',b)\n",
    "print('Pay Rate: ',c)\n",
    "print('Gross Pay: ',f)\n",
    "print('Deductions:')\n",
    "print('Federal Withholding(20.0%): ',g)\n",
    "print('State Withholding(9.0%): ',h)\n",
    "print('Total Deduction: ',i)\n",
    "print('Net Pay: ',j)"
   ]
  },
  {
   "cell_type": "markdown",
   "metadata": {},
   "source": [
    "- 7\n",
    "<img src=\"../Photo/32.png\"><img>"
   ]
  },
  {
   "cell_type": "code",
   "execution_count": 1,
   "metadata": {},
   "outputs": [
    {
     "name": "stdout",
     "output_type": "stream",
     "text": [
      "请输入一个整数:589\n",
      "985\n"
     ]
    }
   ],
   "source": [
    "a = eval(input(\"请输入一个整数:\"))\n",
    "res = 0\n",
    "while a : \n",
    "    b = a%10\n",
    "    a=a//10\n",
    "    res = res*10 + b\n",
    "print(res)"
   ]
  },
  {
   "cell_type": "markdown",
   "metadata": {},
   "source": [
    "- 8 进阶：\n",
    "> 加密一串文本，并将解密后的文件写入本地保存"
   ]
  },
  {
   "cell_type": "code",
   "execution_count": 3,
   "metadata": {},
   "outputs": [
    {
     "name": "stdout",
     "output_type": "stream",
     "text": [
      "请输入文本:36@kim.cn\n",
      "Ĉ\n"
     ]
    }
   ],
   "source": [
    "wenben = input('请输入文本:')\n",
    "mima = chr((ord('#')-2)*8)\n",
    "print(mima)"
   ]
  }
 ],
 "metadata": {
  "kernelspec": {
   "display_name": "Python 3",
   "language": "python",
   "name": "python3"
  },
  "language_info": {
   "codemirror_mode": {
    "name": "ipython",
    "version": 3
   },
   "file_extension": ".py",
   "mimetype": "text/x-python",
   "name": "python",
   "nbconvert_exporter": "python",
   "pygments_lexer": "ipython3",
   "version": "3.7.3"
  }
 },
 "nbformat": 4,
 "nbformat_minor": 2
}
